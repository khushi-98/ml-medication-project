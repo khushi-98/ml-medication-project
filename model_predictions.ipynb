{
  "nbformat": 4,
  "nbformat_minor": 0,
  "metadata": {
    "colab": {
      "provenance": []
    },
    "kernelspec": {
      "name": "python3",
      "display_name": "Python 3"
    },
    "language_info": {
      "name": "python"
    }
  },
  "cells": [
    {
      "cell_type": "code",
      "source": [
        "!mkdir data"
      ],
      "metadata": {
        "id": "Vs4YBILGgcRS"
      },
      "execution_count": 1,
      "outputs": []
    },
    {
      "cell_type": "code",
      "source": [
        "import numpy as np"
      ],
      "metadata": {
        "id": "9IRjarEObSYd"
      },
      "execution_count": 12,
      "outputs": []
    },
    {
      "cell_type": "code",
      "source": [
        "import pandas as pd\n",
        "from sklearn.model_selection import train_test_split\n",
        "from sklearn.preprocessing import LabelEncoder\n",
        "from sklearn.feature_extraction.text import TfidfVectorizer\n",
        "from sklearn.metrics import accuracy_score\n",
        "from sklearn.neighbors import KNeighborsClassifier\n",
        "from sklearn.svm import SVC\n",
        "from sklearn.ensemble import RandomForestClassifier\n",
        "\n",
        "file_path = \"/content/data/medical data.csv\"\n",
        "data = pd.read_csv(file_path)\n",
        "\n",
        "data['Symptoms'] = data['Symptoms'].fillna('')\n",
        "data['Causes'] = data['Causes'].fillna('')\n",
        "\n",
        "data['Features'] = data['Symptoms'] + \" \" + data['Causes']\n",
        "\n",
        "tfidf_vectorizer = TfidfVectorizer(max_features=1000)\n",
        "X_features = tfidf_vectorizer.fit_transform(data['Features']).toarray()\n",
        "\n",
        "\n",
        "label_encoder_disease = LabelEncoder()\n",
        "label_encoder_medicine = LabelEncoder()\n",
        "y_disease = label_encoder_disease.fit_transform(data['Disease'])\n",
        "y_medicine = label_encoder_medicine.fit_transform(data['Medicine'])\n",
        "\n",
        "X_train, X_test, y_disease_train, y_disease_test = train_test_split(X_features, y_disease, test_size=0.2, random_state=42)\n",
        "_, _, y_medicine_train, y_medicine_test = train_test_split(X_features, y_medicine, test_size=0.2, random_state=42)\n",
        "\n",
        "knn_disease = KNeighborsClassifier(n_neighbors=5)\n",
        "knn_disease.fit(X_train, y_disease_train)\n",
        "disease_preds_knn = knn_disease.predict(X_test)\n",
        "\n",
        "svm_disease = SVC(random_state=42)\n",
        "svm_disease.fit(X_train, y_disease_train)\n",
        "disease_preds_svm = svm_disease.predict(X_test)\n",
        "\n",
        "rf_disease = RandomForestClassifier(random_state=42)\n",
        "rf_disease.fit(X_train, y_disease_train)\n",
        "disease_preds_rf = rf_disease.predict(X_test)\n",
        "\n",
        "knn_medicine = KNeighborsClassifier(n_neighbors=5)\n",
        "knn_medicine.fit(X_train, y_medicine_train)\n",
        "medicine_preds_knn = knn_medicine.predict(X_test)\n",
        "\n",
        "svm_medicine = SVC(random_state=42)\n",
        "svm_medicine.fit(X_train, y_medicine_train)\n",
        "medicine_preds_svm = svm_medicine.predict(X_test)\n",
        "\n",
        "rf_medicine = RandomForestClassifier(random_state=42)\n",
        "rf_medicine.fit(X_train, y_medicine_train)\n",
        "medicine_preds_rf = rf_medicine.predict(X_test)\n",
        "\n",
        "disease_accuracy_knn = accuracy_score(y_disease_test, disease_preds_knn) * 100\n",
        "disease_accuracy_svm = accuracy_score(y_disease_test, disease_preds_svm) * 100\n",
        "disease_accuracy_rf = accuracy_score(y_disease_test, disease_preds_rf) * 100\n",
        "\n",
        "medicine_accuracy_knn = accuracy_score(y_medicine_test, medicine_preds_knn) * 100\n",
        "medicine_accuracy_svm = accuracy_score(y_medicine_test, medicine_preds_svm) * 100\n",
        "medicine_accuracy_rf = accuracy_score(y_medicine_test, medicine_preds_rf) * 100\n",
        "\n",
        "print(f\"Disease Prediction Accuracy (KNN): {disease_accuracy_knn:.2f}%\")\n",
        "print(f\"Disease Prediction Accuracy (SVM): {disease_accuracy_svm:.2f}%\")\n",
        "print(f\"Disease Prediction Accuracy (Random Forest): {disease_accuracy_rf:.2f}%\")\n",
        "\n",
        "print(f\"Medicine Prediction Accuracy (KNN): {medicine_accuracy_knn:.2f}%\")\n",
        "print(f\"Medicine Prediction Accuracy (SVM): {medicine_accuracy_svm:.2f}%\")\n",
        "print(f\"Medicine Prediction Accuracy (Random Forest): {medicine_accuracy_rf:.2f}%\")\n",
        "\n",
        "sample_input = [\"Fever, Cough Viral Infection\"]\n",
        "sample_features = tfidf_vectorizer.transform(sample_input).toarray()\n",
        "\n",
        "predicted_disease_rf = label_encoder_disease.inverse_transform(rf_disease.predict(sample_features))\n",
        "predicted_medicine_rf = label_encoder_medicine.inverse_transform(rf_medicine.predict(sample_features))\n",
        "\n",
        "print(f\"Predicted Disease (Random Forest): {predicted_disease_rf[0]}\")\n",
        "print(f\"Predicted Medicine (Random Forest): {predicted_medicine_rf[0]}\")\n"
      ],
      "metadata": {
        "colab": {
          "base_uri": "https://localhost:8080/"
        },
        "id": "zSyHB0wEdUNx",
        "outputId": "69861c30-1969-4a17-e078-2c3eb94de980"
      },
      "execution_count": 15,
      "outputs": [
        {
          "output_type": "stream",
          "name": "stdout",
          "text": [
            "Disease Prediction Accuracy (KNN): 77.59%\n",
            "Disease Prediction Accuracy (SVM): 87.93%\n",
            "Disease Prediction Accuracy (Random Forest): 89.66%\n",
            "Medicine Prediction Accuracy (KNN): 75.86%\n",
            "Medicine Prediction Accuracy (SVM): 93.10%\n",
            "Medicine Prediction Accuracy (Random Forest): 89.66%\n",
            "Predicted Disease (Random Forest): Common Cold\n",
            "Predicted Medicine (Random Forest): Antivirals, Rest\n"
          ]
        }
      ]
    },
    {
      "cell_type": "code",
      "source": [],
      "metadata": {
        "id": "fU3hR1SCdUKX"
      },
      "execution_count": null,
      "outputs": []
    },
    {
      "cell_type": "code",
      "source": [],
      "metadata": {
        "id": "nUjMiK5RdUHk"
      },
      "execution_count": null,
      "outputs": []
    },
    {
      "cell_type": "code",
      "source": [],
      "metadata": {
        "id": "ElOhCRqodUEx"
      },
      "execution_count": null,
      "outputs": []
    }
  ]
}